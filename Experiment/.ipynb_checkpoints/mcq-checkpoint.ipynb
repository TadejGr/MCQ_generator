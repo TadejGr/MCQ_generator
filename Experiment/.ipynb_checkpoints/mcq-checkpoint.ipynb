{
 "cells": [
  {
   "cell_type": "code",
   "execution_count": 13,
   "id": "f6a4d519-ea25-4cc0-94cc-1fac68446fea",
   "metadata": {},
   "outputs": [],
   "source": [
    "import os\n",
    "import json\n",
    "import pandas as pd\n",
    "import traceback\n",
    "from langchain.chat_models import ChatOpenAI\n",
    "from dotenv import load_dotenv\n",
    "from langchain.llms import OpenAI\n",
    "from langchain.prompts import PromptTemplate\n",
    "from langchain.chains import LLMChain, SequentialChain\n",
    "from langchain.callbacks import get_openai_callback\n",
    "import PyPDF2"
   ]
  },
  {
   "cell_type": "code",
   "execution_count": 9,
   "id": "1099ef76-e5f6-496f-9dee-307920bf4489",
   "metadata": {},
   "outputs": [
    {
     "data": {
      "text/plain": [
       "True"
      ]
     },
     "execution_count": 9,
     "metadata": {},
     "output_type": "execute_result"
    }
   ],
   "source": [
    "load_dotenv()"
   ]
  },
  {
   "cell_type": "code",
   "execution_count": 10,
   "id": "63d830bf-0a31-4e35-8aff-0718da32a88f",
   "metadata": {},
   "outputs": [],
   "source": [
    "KEY=os.getenv(\"OPENAI_API_KEY\")"
   ]
  },
  {
   "cell_type": "code",
   "execution_count": 12,
   "id": "8a648a77-343e-4c77-ac7c-a17799cd4d86",
   "metadata": {},
   "outputs": [],
   "source": [
    "llm=ChatOpenAI(openai_api_key=KEY, model_name=\"gpt-3.5-turbo\", temperature=0.3)"
   ]
  },
  {
   "cell_type": "code",
   "execution_count": 14,
   "id": "0742f8b0-8e74-4a9d-a851-346ade689f8c",
   "metadata": {},
   "outputs": [],
   "source": [
    "RESPONSE_JSON={\n",
    "    \"1\":{\n",
    "        \"mcq\": \"multiple choice question\",\n",
    "        \"options\":{\n",
    "            \"a\": \"choice here\",\n",
    "            \"b\": \"choice here\",\n",
    "            \"c\": \"choice here\",\n",
    "            \"d\": \"choice here\",\n",
    "        },\n",
    "        \"correct\": \"correct_answer\",\n",
    "    },\n",
    "     \"2\":{\n",
    "        \"mcq\": \"multiple choice question\",\n",
    "        \"options\":{\n",
    "            \"a\": \"choice here\",\n",
    "            \"b\": \"choice here\",\n",
    "            \"c\": \"choice here\",\n",
    "            \"d\": \"choice here\",\n",
    "        },\n",
    "        \"correct\": \"correct_answer\",\n",
    "    },  \n",
    "    \"3\":{\n",
    "        \"mcq\": \"multiple choice question\",\n",
    "        \"options\":{\n",
    "            \"a\": \"choice here\",\n",
    "            \"b\": \"choice here\",\n",
    "            \"c\": \"choice here\",\n",
    "            \"d\": \"choice here\",\n",
    "        },\n",
    "        \"correct\": \"correct_answer\",\n",
    "    },\n",
    "}"
   ]
  },
  {
   "cell_type": "code",
   "execution_count": 15,
   "id": "62e2df49-d521-49e9-a59b-7dfee223b413",
   "metadata": {},
   "outputs": [],
   "source": [
    "TEMPLATE=\"\"\"\n",
    "Text:{text}\n",
    "You are an expert MCQ maker. Given the above text, it is your job to create a quiz of {number} multiple choice questions for \\\n",
    "{subject} students in {tone} tone.\n",
    "Make sure the questions are not repeated and check all the questions to be conforming the text as well. \n",
    "Make sure to format your response like RESPONSE_JSON below and use it as a guide. \\\n",
    "Ensure to make {number} MCQs.\n",
    "###RESPONSE_JSON\n",
    "{response_json}\n",
    "\"\"\""
   ]
  },
  {
   "cell_type": "code",
   "execution_count": 17,
   "id": "628b283a-8c55-49b5-8a4c-e2e390074e0c",
   "metadata": {},
   "outputs": [],
   "source": [
    "quiz_generation_prompt=PromptTemplate(\n",
    "    input_variables=[\"text\", \"number\", \"subject\", \"tone\", \"response_json\"],\n",
    "    template=TEMPLATE)"
   ]
  },
  {
   "cell_type": "code",
   "execution_count": 18,
   "id": "62302dd4-f627-4c35-bc0b-4364b7458b67",
   "metadata": {},
   "outputs": [],
   "source": [
    "quiz_chain=LLMChain(llm=llm, prompt=quiz_generation_prompt, output_key=\"quiz\", verbose=True)"
   ]
  },
  {
   "cell_type": "code",
   "execution_count": 19,
   "id": "99641498-08f4-4636-a219-400e7a9f5c12",
   "metadata": {},
   "outputs": [],
   "source": [
    "TEMPLATE2=\"\"\"\n",
    "You are an expert english grammarian and writer. Given a Multiple Choice Quiz for {subject} students.\\\n",
    "You need to evaluate the complexity of the question and give a complete analysis of the quiz. Only use at max 50 words for complexity analysis. \n",
    "if the quiz is not at per with the cognitive and analytical abilities of the students,\\\n",
    "update the quiz questions which needs to be changed and change the tone such that it perfectly fits the student abilities\n",
    "Quiz_MCQs:\n",
    "{quiz}\n",
    "\n",
    "Check from an expert English Writer of the above quiz:\n",
    "\"\"\""
   ]
  },
  {
   "cell_type": "code",
   "execution_count": 20,
   "id": "f0a09f91-f2de-4b74-b77f-57c5718341d8",
   "metadata": {},
   "outputs": [],
   "source": [
    "quiz_evaluation_prompt=PromptTemplate(\n",
    "    input_variables=[\"subject\", \"quiz\"], \n",
    "    template=TEMPLATE2)"
   ]
  },
  {
   "cell_type": "code",
   "execution_count": 21,
   "id": "e445638c-dc1b-44bf-a709-2fa278095e68",
   "metadata": {},
   "outputs": [],
   "source": [
    "review_chain=LLMChain(llm=llm, prompt=quiz_evaluation_prompt, output_key=\"review\", verbose=True)"
   ]
  },
  {
   "cell_type": "code",
   "execution_count": 23,
   "id": "75a4d0f4-e124-49fe-9913-7b2f7c68bfb7",
   "metadata": {},
   "outputs": [],
   "source": [
    "generate_evaluate_chain=SequentialChain(chains=[quiz_chain,review_chain], input_variables=[\"text\", \"number\", \"subject\", \"tone\", \"response_json\"], \\\n",
    "                                                output_variables=[\"quiz\", \"review\"], verbose=True)"
   ]
  },
  {
   "cell_type": "code",
   "execution_count": 33,
   "id": "98e37363-9c35-44c7-8712-81de5bb881a6",
   "metadata": {},
   "outputs": [],
   "source": [
    "with open(r\"C:\\Users\\PC-AB\\Documents\\AI\\MCQ_Generator\\data.txt\", 'r') as file:\n",
    "    TEXT=file.read()"
   ]
  },
  {
   "cell_type": "code",
   "execution_count": 34,
   "id": "471742a0-2652-4119-a405-5910a2006ca5",
   "metadata": {},
   "outputs": [],
   "source": [
    "NUMBER=5\n",
    "SUBJECT=\"machine learning\"\n",
    "TONE=\"simple\""
   ]
  },
  {
   "cell_type": "code",
   "execution_count": 35,
   "id": "8db7f21d-cda5-4194-81f4-3e28d045aa11",
   "metadata": {},
   "outputs": [
    {
     "name": "stderr",
     "output_type": "stream",
     "text": [
      "C:\\Users\\PC-AB\\Documents\\AI\\MCQ_Generator\\env\\lib\\site-packages\\langchain_core\\_api\\deprecation.py:119: LangChainDeprecationWarning: The method `Chain.__call__` was deprecated in langchain 0.1.0 and will be removed in 0.2.0. Use invoke instead.\n",
      "  warn_deprecated(\n"
     ]
    },
    {
     "name": "stdout",
     "output_type": "stream",
     "text": [
      "\n",
      "\n",
      "\u001b[1m> Entering new SequentialChain chain...\u001b[0m\n",
      "\n",
      "\n",
      "\u001b[1m> Entering new LLMChain chain...\u001b[0m\n",
      "Prompt after formatting:\n",
      "\u001b[32;1m\u001b[1;3m\n",
      "Text:The term machine learning was coined in 1959 by Arthur Samuel, an IBM employee and pioneer in the field of computer gaming and artificial intelligence.[9][10] The synonym self-teaching computers was also used in this time period.[11][12]\n",
      "\n",
      "Although the earliest machine learning model was introduced in the 1950s when Arthur Samuel invented a program that calculated the winning chance in checkers for each side, the history of machine learning roots back to decades of human desire and effort to study human cognitive processes.[13] In 1949, Canadian psychologist Donald Hebb published the book The Organization of Behavior, in which he introduced a theoretical neural structure formed by certain interactions among nerve cells.[14] Hebb's model of neurons interacting with one another set a groundwork for how AIs and machine learning algorithms work under nodes, or artificial neurons used by computers to communicate data.[13] Other researchers who have studied human cognitive systems contributed to the modern machine learning technologies as well, including logician Walter Pitts and Warren McCulloch, who proposed the early mathematical models of neural networks to come up with algorithms that mirror human thought processes.[13]\n",
      "\n",
      "By the early 1960s an experimental \"learning machine\" with punched tape memory, called Cybertron, had been developed by Raytheon Company to analyze sonar signals, electrocardiograms, and speech patterns using rudimentary reinforcement learning. It was repetitively \"trained\" by a human operator/teacher to recognize patterns and equipped with a \"goof\" button to cause it to re-evaluate incorrect decisions.[15] A representative book on research into machine learning during the 1960s was Nilsson's book on Learning Machines, dealing mostly with machine learning for pattern classification.[16] Interest related to pattern recognition continued into the 1970s, as described by Duda and Hart in 1973.[17] In 1981 a report was given on using teaching strategies so that an artificial neural network learns to recognize 40 characters (26 letters, 10 digits, and 4 special symbols) from a computer terminal.[18]\n",
      "\n",
      "Tom M. Mitchell provided a widely quoted, more formal definition of the algorithms studied in the machine learning field: \"A computer program is said to learn from experience E with respect to some class of tasks T and performance measure P if its performance at tasks in T, as measured by P, improves with experience E.\"[19] This definition of the tasks in which machine learning is concerned offers a fundamentally operational definition rather than defining the field in cognitive terms. This follows Alan Turing's proposal in his paper \"Computing Machinery and Intelligence\", in which the question \"Can machines think?\" is replaced with the question \"Can machines do what we (as thinking entities) can do?\".[20]\n",
      "\n",
      "Modern-day machine learning has two objectives. One is to classify data based on models which have been developed; the other purpose is to make predictions for future outcomes based on these models. A hypothetical algorithm specific to classifying data may use computer vision of moles coupled with supervised learning in order to train it to classify the cancerous moles. A machine learning algorithm for stock trading may inform the trader of future potential predictions.[21]\n",
      "You are an expert MCQ maker. Given the above text, it is your job to create a quiz of 5 multiple choice questions for machine learning students in simple tone.\n",
      "Make sure the questions are not repeated and check all the questions to be conforming the text as well. \n",
      "Make sure to format your response like RESPONSE_JSON below and use it as a guide. Ensure to make 5 MCQs.\n",
      "###RESPONSE_JSON\n",
      "{\"1\": {\"mcq\": \"multiple choice question\", \"options\": {\"a\": \"choice here\", \"b\": \"choice here\", \"c\": \"choice here\", \"d\": \"choice here\"}, \"correct\": \"correct_answer\"}, \"2\": {\"mcq\": \"multiple choice question\", \"options\": {\"a\": \"choice here\", \"b\": \"choice here\", \"c\": \"choice here\", \"d\": \"choice here\"}, \"correct\": \"correct_answer\"}, \"3\": {\"mcq\": \"multiple choice question\", \"options\": {\"a\": \"choice here\", \"b\": \"choice here\", \"c\": \"choice here\", \"d\": \"choice here\"}, \"correct\": \"correct_answer\"}}\n",
      "\u001b[0m\n",
      "\n",
      "\u001b[1m> Finished chain.\u001b[0m\n",
      "\n",
      "\n",
      "\u001b[1m> Entering new LLMChain chain...\u001b[0m\n",
      "Prompt after formatting:\n",
      "\u001b[32;1m\u001b[1;3m\n",
      "You are an expert english grammarian and writer. Given a Multiple Choice Quiz for machine learning students.You need to evaluate the complexity of the question and give a complete analysis of the quiz. Only use at max 50 words for complexity analysis. \n",
      "if the quiz is not at per with the cognitive and analytical abilities of the students,update the quiz questions which needs to be changed and change the tone such that it perfectly fits the student abilities\n",
      "Quiz_MCQs:\n",
      "{\n",
      "\"1\": {\n",
      "\"mcq\": \"What term was coined in 1959 by Arthur Samuel to describe the field of computer gaming and artificial intelligence?\",\n",
      "\"options\": {\n",
      "\"a\": \"Artificial Intelligence\",\n",
      "\"b\": \"Machine Learning\",\n",
      "\"c\": \"Computer Gaming\",\n",
      "\"d\": \"Self-Teaching Computers\"\n",
      "},\n",
      "\"correct\": \"b\"\n",
      "},\n",
      "\"2\": {\n",
      "\"mcq\": \"Who published the book 'The Organization of Behavior' in 1949, introducing a theoretical neural structure?\",\n",
      "\"options\": {\n",
      "\"a\": \"Arthur Samuel\",\n",
      "\"b\": \"Donald Hebb\",\n",
      "\"c\": \"Walter Pitts\",\n",
      "\"d\": \"Warren McCulloch\"\n",
      "},\n",
      "\"correct\": \"b\"\n",
      "},\n",
      "\"3\": {\n",
      "\"mcq\": \"What was the name of the experimental 'learning machine' developed by Raytheon Company in the early 1960s?\",\n",
      "\"options\": {\n",
      "\"a\": \"Cyberdyne\",\n",
      "\"b\": \"Cybernet\",\n",
      "\"c\": \"Cybertron\",\n",
      "\"d\": \"Cyberlink\"\n",
      "},\n",
      "\"correct\": \"c\"\n",
      "},\n",
      "\"4\": {\n",
      "\"mcq\": \"According to Tom M. Mitchell, what is the definition of a computer program learning from experience?\",\n",
      "\"options\": {\n",
      "\"a\": \"Improving performance at tasks in T\",\n",
      "\"b\": \"Classifying data based on models\",\n",
      "\"c\": \"Making predictions for future outcomes\",\n",
      "\"d\": \"Improving performance at tasks in T, as measured by P, with experience E\"\n",
      "},\n",
      "\"correct\": \"d\"\n",
      "},\n",
      "\"5\": {\n",
      "\"mcq\": \"What are the two objectives of modern-day machine learning?\",\n",
      "\"options\": {\n",
      "\"a\": \"To develop computer vision algorithms\",\n",
      "\"b\": \"To classify data and make predictions\",\n",
      "\"c\": \"To create artificial neural networks\",\n",
      "\"d\": \"To study human cognitive processes\"\n",
      "},\n",
      "\"correct\": \"b\"\n",
      "}\n",
      "}\n",
      "\n",
      "Check from an expert English Writer of the above quiz:\n",
      "\u001b[0m\n",
      "\n",
      "\u001b[1m> Finished chain.\u001b[0m\n",
      "\n",
      "\u001b[1m> Finished chain.\u001b[0m\n"
     ]
    }
   ],
   "source": [
    "with get_openai_callback() as cb:\n",
    "    response=generate_evaluate_chain(\n",
    "        {\n",
    "            \"text\": TEXT,\n",
    "            \"number\": NUMBER,\n",
    "            \"subject\": SUBJECT,\n",
    "            \"tone\": TONE,\n",
    "            \"response_json\": json.dumps(RESPONSE_JSON)\n",
    "        }\n",
    "    )"
   ]
  },
  {
   "cell_type": "code",
   "execution_count": 36,
   "id": "5ca244b2-ed15-4820-ab08-70e845f2fee1",
   "metadata": {},
   "outputs": [
    {
     "name": "stdout",
     "output_type": "stream",
     "text": [
      "Total Tokens:1828\n",
      "Prompt Tokens:1389\n",
      "Completion Tokens:439\n",
      "Total Cost:0.0029614999999999997\n"
     ]
    }
   ],
   "source": [
    "print(f\"Total Tokens:{cb.total_tokens}\")\n",
    "print(f\"Prompt Tokens:{cb.prompt_tokens}\")\n",
    "print(f\"Completion Tokens:{cb.completion_tokens}\")\n",
    "print(f\"Total Cost:{cb.total_cost}\")"
   ]
  },
  {
   "cell_type": "code",
   "execution_count": 91,
   "id": "36fba230-d99d-4d3e-9b12-5ce07b905784",
   "metadata": {},
   "outputs": [],
   "source": [
    "quiz=response.get(\"quiz\")"
   ]
  },
  {
   "cell_type": "code",
   "execution_count": 92,
   "id": "1a62c7d7-800e-4a3c-b04f-8dd9ba00fbde",
   "metadata": {},
   "outputs": [
    {
     "data": {
      "text/plain": [
       "'{\\n\"1\": {\\n\"mcq\": \"What term was coined in 1959 by Arthur Samuel to describe the field of computer gaming and artificial intelligence?\",\\n\"options\": {\\n\"a\": \"Artificial Intelligence\",\\n\"b\": \"Machine Learning\",\\n\"c\": \"Computer Gaming\",\\n\"d\": \"Self-Teaching Computers\"\\n},\\n\"correct\": \"b\"\\n},\\n\"2\": {\\n\"mcq\": \"Who published the book \\'The Organization of Behavior\\' in 1949, introducing a theoretical neural structure?\",\\n\"options\": {\\n\"a\": \"Arthur Samuel\",\\n\"b\": \"Donald Hebb\",\\n\"c\": \"Walter Pitts\",\\n\"d\": \"Warren McCulloch\"\\n},\\n\"correct\": \"b\"\\n},\\n\"3\": {\\n\"mcq\": \"What was the name of the experimental \\'learning machine\\' developed by Raytheon Company in the early 1960s?\",\\n\"options\": {\\n\"a\": \"Cyberdyne\",\\n\"b\": \"Cybernet\",\\n\"c\": \"Cybertron\",\\n\"d\": \"Cyberlink\"\\n},\\n\"correct\": \"c\"\\n},\\n\"4\": {\\n\"mcq\": \"According to Tom M. Mitchell, what is the definition of a computer program learning from experience?\",\\n\"options\": {\\n\"a\": \"Improving performance at tasks in T\",\\n\"b\": \"Classifying data based on models\",\\n\"c\": \"Making predictions for future outcomes\",\\n\"d\": \"Improving performance at tasks in T, as measured by P, with experience E\"\\n},\\n\"correct\": \"d\"\\n},\\n\"5\": {\\n\"mcq\": \"What are the two objectives of modern-day machine learning?\",\\n\"options\": {\\n\"a\": \"To develop computer vision algorithms\",\\n\"b\": \"To classify data and make predictions\",\\n\"c\": \"To create artificial neural networks\",\\n\"d\": \"To study human cognitive processes\"\\n},\\n\"correct\": \"b\"\\n}\\n}'"
      ]
     },
     "execution_count": 92,
     "metadata": {},
     "output_type": "execute_result"
    }
   ],
   "source": [
    "quiz"
   ]
  },
  {
   "cell_type": "code",
   "execution_count": 93,
   "id": "09325d80-feb5-4d6f-b02a-3b98702dafca",
   "metadata": {},
   "outputs": [],
   "source": [
    "quiz_table=json.loads(quiz)"
   ]
  },
  {
   "cell_type": "code",
   "execution_count": 107,
   "id": "5abeb8fa-d94e-454f-a824-1b67cfd5d1e5",
   "metadata": {},
   "outputs": [
    {
     "data": {
      "text/plain": [
       "{'1': {'mcq': 'What term was coined in 1959 by Arthur Samuel to describe the field of computer gaming and artificial intelligence?',\n",
       "  'options': {'a': 'Artificial Intelligence',\n",
       "   'b': 'Machine Learning',\n",
       "   'c': 'Computer Gaming',\n",
       "   'd': 'Self-Teaching Computers'},\n",
       "  'correct': 'b'},\n",
       " '2': {'mcq': \"Who published the book 'The Organization of Behavior' in 1949, introducing a theoretical neural structure?\",\n",
       "  'options': {'a': 'Arthur Samuel',\n",
       "   'b': 'Donald Hebb',\n",
       "   'c': 'Walter Pitts',\n",
       "   'd': 'Warren McCulloch'},\n",
       "  'correct': 'b'},\n",
       " '3': {'mcq': \"What was the name of the experimental 'learning machine' developed by Raytheon Company in the early 1960s?\",\n",
       "  'options': {'a': 'Cyberdyne',\n",
       "   'b': 'Cybernet',\n",
       "   'c': 'Cybertron',\n",
       "   'd': 'Cyberlink'},\n",
       "  'correct': 'c'},\n",
       " '4': {'mcq': 'According to Tom M. Mitchell, what is the definition of a computer program learning from experience?',\n",
       "  'options': {'a': 'Improving performance at tasks in T',\n",
       "   'b': 'Classifying data based on models',\n",
       "   'c': 'Making predictions for future outcomes',\n",
       "   'd': 'Improving performance at tasks in T, as measured by P, with experience E'},\n",
       "  'correct': 'd'},\n",
       " '5': {'mcq': 'What are the two objectives of modern-day machine learning?',\n",
       "  'options': {'a': 'To develop computer vision algorithms',\n",
       "   'b': 'To classify data and make predictions',\n",
       "   'c': 'To create artificial neural networks',\n",
       "   'd': 'To study human cognitive processes'},\n",
       "  'correct': 'b'}}"
      ]
     },
     "execution_count": 107,
     "metadata": {},
     "output_type": "execute_result"
    }
   ],
   "source": [
    "quiz_table"
   ]
  },
  {
   "cell_type": "code",
   "execution_count": 122,
   "id": "1751510f-10fc-46fa-8824-5dd908f95918",
   "metadata": {},
   "outputs": [],
   "source": [
    "quiz_table_data=[]"
   ]
  },
  {
   "cell_type": "code",
   "execution_count": 123,
   "id": "a2bf3b11-8f81-4d15-bd08-633a4fbe7cab",
   "metadata": {},
   "outputs": [],
   "source": [
    "for key, item in quiz_table.items():\n",
    "    mcq=item['mcq']\n",
    "    correct=item['correct']\n",
    "    options=' | '.join(\"{}: {}\".format(key2, item2) for key2, item2 in item['options'].items())\n",
    "    quiz_table_data.append({'MCQ':mcq, 'OPTIONS':options, 'CORRECT':correct})\n"
   ]
  },
  {
   "cell_type": "code",
   "execution_count": 124,
   "id": "53b2e807-f889-42d2-93cf-d8a3fa60353c",
   "metadata": {},
   "outputs": [
    {
     "data": {
      "text/plain": [
       "[{'MCQ': 'What term was coined in 1959 by Arthur Samuel to describe the field of computer gaming and artificial intelligence?',\n",
       "  'OPTIONS': 'a: Artificial Intelligence | b: Machine Learning | c: Computer Gaming | d: Self-Teaching Computers',\n",
       "  'CORRECT': 'b'},\n",
       " {'MCQ': \"Who published the book 'The Organization of Behavior' in 1949, introducing a theoretical neural structure?\",\n",
       "  'OPTIONS': 'a: Arthur Samuel | b: Donald Hebb | c: Walter Pitts | d: Warren McCulloch',\n",
       "  'CORRECT': 'b'},\n",
       " {'MCQ': \"What was the name of the experimental 'learning machine' developed by Raytheon Company in the early 1960s?\",\n",
       "  'OPTIONS': 'a: Cyberdyne | b: Cybernet | c: Cybertron | d: Cyberlink',\n",
       "  'CORRECT': 'c'},\n",
       " {'MCQ': 'According to Tom M. Mitchell, what is the definition of a computer program learning from experience?',\n",
       "  'OPTIONS': 'a: Improving performance at tasks in T | b: Classifying data based on models | c: Making predictions for future outcomes | d: Improving performance at tasks in T, as measured by P, with experience E',\n",
       "  'CORRECT': 'd'},\n",
       " {'MCQ': 'What are the two objectives of modern-day machine learning?',\n",
       "  'OPTIONS': 'a: To develop computer vision algorithms | b: To classify data and make predictions | c: To create artificial neural networks | d: To study human cognitive processes',\n",
       "  'CORRECT': 'b'}]"
      ]
     },
     "execution_count": 124,
     "metadata": {},
     "output_type": "execute_result"
    }
   ],
   "source": [
    "quiz_table_data"
   ]
  },
  {
   "cell_type": "code",
   "execution_count": 125,
   "id": "eb90d72a-273d-4eb4-afe3-16767efeb619",
   "metadata": {},
   "outputs": [],
   "source": [
    "final_table=pd.DataFrame(quiz_table_data)"
   ]
  },
  {
   "cell_type": "code",
   "execution_count": 126,
   "id": "b92b9552-efec-4bc9-a0da-c3ddd031a553",
   "metadata": {},
   "outputs": [
    {
     "name": "stdout",
     "output_type": "stream",
     "text": [
      "                                                 MCQ  \\\n",
      "0  What term was coined in 1959 by Arthur Samuel ...   \n",
      "1  Who published the book 'The Organization of Be...   \n",
      "2  What was the name of the experimental 'learnin...   \n",
      "3  According to Tom M. Mitchell, what is the defi...   \n",
      "4  What are the two objectives of modern-day mach...   \n",
      "\n",
      "                                             OPTIONS CORRECT  \n",
      "0  a: Artificial Intelligence | b: Machine Learni...       b  \n",
      "1  a: Arthur Samuel | b: Donald Hebb | c: Walter ...       b  \n",
      "2  a: Cyberdyne | b: Cybernet | c: Cybertron | d:...       c  \n",
      "3  a: Improving performance at tasks in T | b: Cl...       d  \n",
      "4  a: To develop computer vision algorithms | b: ...       b  \n"
     ]
    }
   ],
   "source": [
    "print(final_table)"
   ]
  },
  {
   "cell_type": "code",
   "execution_count": 128,
   "id": "a4e8c055-aa7b-4e6e-b58c-8772428ecc98",
   "metadata": {},
   "outputs": [],
   "source": [
    "final_table.to_csv(\"Machinelearning.csv\", index=False, header=True)"
   ]
  },
  {
   "cell_type": "code",
   "execution_count": null,
   "id": "389d34e8-f69a-4f12-ae64-789d823b3643",
   "metadata": {},
   "outputs": [],
   "source": []
  }
 ],
 "metadata": {
  "kernelspec": {
   "display_name": "Python 3 (ipykernel)",
   "language": "python",
   "name": "python3"
  },
  "language_info": {
   "codemirror_mode": {
    "name": "ipython",
    "version": 3
   },
   "file_extension": ".py",
   "mimetype": "text/x-python",
   "name": "python",
   "nbconvert_exporter": "python",
   "pygments_lexer": "ipython3",
   "version": "3.8.19"
  }
 },
 "nbformat": 4,
 "nbformat_minor": 5
}
